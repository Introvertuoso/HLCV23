{
 "cells": [
  {
   "cell_type": "code",
   "execution_count": 1,
   "outputs": [
    {
     "name": "stderr",
     "output_type": "stream",
     "text": [
      "C:\\Users\\j2010\\PycharmProjects\\CADDSeminar_2023\\venv\\lib\\site-packages\\torchvision\\transforms\\functional_tensor.py:5: UserWarning: The torchvision.transforms.functional_tensor module is deprecated in 0.15 and will be **removed in 0.17**. Please don't rely on it. You probably just need to use APIs in torchvision.transforms.functional or in torchvision.transforms.v2.functional.\n",
      "  warnings.warn(\n",
      "C:\\Users\\j2010\\PycharmProjects\\CADDSeminar_2023\\venv\\lib\\site-packages\\torchvision\\transforms\\_functional_video.py:6: UserWarning: The 'torchvision.transforms._functional_video' module is deprecated since 0.12 and will be removed in the future. Please use the 'torchvision.transforms.functional' module instead.\n",
      "  warnings.warn(\n",
      "C:\\Users\\j2010\\PycharmProjects\\CADDSeminar_2023\\venv\\lib\\site-packages\\torchvision\\transforms\\_transforms_video.py:22: UserWarning: The 'torchvision.transforms._transforms_video' module is deprecated since 0.12 and will be removed in the future. Please use the 'torchvision.transforms' module instead.\n",
      "  warnings.warn(\n"
     ]
    }
   ],
   "source": [
    "import torch\n",
    "import os\n",
    "\n",
    "import numpy as np\n",
    "\n",
    "from src.imagebind import define_model, get_transform\n",
    "from imagebind import data\n",
    "from tqdm.notebook import tqdm\n",
    "from src.imagenet_labels import lab_dict\n",
    "from imagebind.models.imagebind_model import ModalityType\n",
    "from src.dataloaders import imagenet_dataloader, imagenet_c_dataloader"
   ],
   "metadata": {
    "collapsed": false,
    "ExecuteTime": {
     "end_time": "2023-07-29T20:54:24.951280500Z",
     "start_time": "2023-07-29T20:54:21.904129400Z"
    }
   },
   "id": "3a5fdfa3c86fd84"
  },
  {
   "cell_type": "code",
   "execution_count": 2,
   "id": "initial_id",
   "metadata": {
    "collapsed": true,
    "ExecuteTime": {
     "end_time": "2023-07-29T20:54:25.001120Z",
     "start_time": "2023-07-29T20:54:24.941719600Z"
    }
   },
   "outputs": [
    {
     "name": "stdout",
     "output_type": "stream",
     "text": [
      "cuda\n"
     ]
    }
   ],
   "source": [
    "device = \"cuda\" if torch.cuda.is_available() else \"cpu\"\n",
    "print(device)"
   ]
  },
  {
   "cell_type": "code",
   "execution_count": 3,
   "outputs": [],
   "source": [
    "model = define_model(\"cpu\")\n",
    "transform = get_transform()"
   ],
   "metadata": {
    "collapsed": false,
    "ExecuteTime": {
     "end_time": "2023-07-29T20:54:37.988781100Z",
     "start_time": "2023-07-29T20:54:25.003113700Z"
    }
   },
   "id": "75cb5ef5c4c79f73"
  },
  {
   "cell_type": "code",
   "execution_count": 4,
   "outputs": [],
   "source": [
    "cls_names = [lab_dict[i].replace('_', ' ') for i in os.listdir('../data/imagenet')]\n",
    "text = data.load_and_transform_text(cls_names, \"cpu\")"
   ],
   "metadata": {
    "collapsed": false,
    "ExecuteTime": {
     "end_time": "2023-07-29T20:54:38.269659500Z",
     "start_time": "2023-07-29T20:54:37.991487200Z"
    }
   },
   "id": "250daf003b7e19ae"
  },
  {
   "cell_type": "code",
   "execution_count": 5,
   "outputs": [],
   "source": [
    "inputs = {\n",
    "    ModalityType.TEXT: text,\n",
    "}\n",
    "with torch.no_grad():\n",
    "    embeddings = model(inputs)\n",
    "text_features = embeddings[ModalityType.TEXT]"
   ],
   "metadata": {
    "collapsed": false,
    "ExecuteTime": {
     "end_time": "2023-07-29T20:58:12.281700100Z",
     "start_time": "2023-07-29T20:54:38.277641400Z"
    }
   },
   "id": "1f559f9e6ec24b40"
  },
  {
   "cell_type": "code",
   "execution_count": 6,
   "outputs": [],
   "source": [
    "model = model.to(device)"
   ],
   "metadata": {
    "collapsed": false,
    "ExecuteTime": {
     "end_time": "2023-07-29T20:58:13.828854900Z",
     "start_time": "2023-07-29T20:58:12.286687900Z"
    }
   },
   "id": "d6af45afe8fb5bda"
  },
  {
   "cell_type": "code",
   "execution_count": 7,
   "outputs": [],
   "source": [
    "def get_acc(gt, preds = None):\n",
    "    if preds is not None: \n",
    "        return ((preds.argmax(1)==gt).sum()/len(preds)).cpu().numpy()\n",
    "    return ((preds.argmax(1)==gt).sum()/len(preds)).cpu().numpy()\n",
    "    \n",
    "\n",
    "def get_test_acc(model, loader, device='cuda'):\n",
    "    eval_acc = []\n",
    "    for batch in tqdm(loader, leave=False):\n",
    "        ims, labels = batch\n",
    "        ims, labels = ims.to(device), labels.to(\"cpu\")\n",
    "        inputs = {\n",
    "            ModalityType.VISION: ims,\n",
    "        }\n",
    "        with torch.no_grad():\n",
    "            embeddings = model(inputs)\n",
    "        image_features = embeddings[ModalityType.VISION].to(\"cpu\")\n",
    "        probs = (image_features @ text_features.T).softmax(dim=-1)\n",
    "        \n",
    "        val_acc = get_acc(labels.view(-1,), probs)\n",
    "        eval_acc.append(val_acc)\n",
    "    \n",
    "    return np.mean(eval_acc)"
   ],
   "metadata": {
    "collapsed": false,
    "ExecuteTime": {
     "end_time": "2023-07-29T20:58:13.844810900Z",
     "start_time": "2023-07-29T20:58:13.835837100Z"
    }
   },
   "id": "3b0c98c5c6a110eb"
  },
  {
   "cell_type": "code",
   "execution_count": null,
   "outputs": [
    {
     "data": {
      "text/plain": "  0%|          | 0/5 [00:00<?, ?it/s]",
      "application/vnd.jupyter.widget-view+json": {
       "version_major": 2,
       "version_minor": 0,
       "model_id": "5acce3b54ac04173ab1211bd9f2b26c5"
      }
     },
     "metadata": {},
     "output_type": "display_data"
    },
    {
     "data": {
      "text/plain": "  0%|          | 0/782 [00:00<?, ?it/s]",
      "application/vnd.jupyter.widget-view+json": {
       "version_major": 2,
       "version_minor": 0,
       "model_id": "6bedf23903014efb9bb2c0a87903c58a"
      }
     },
     "metadata": {},
     "output_type": "display_data"
    }
   ],
   "source": [
    "gaussian_noise_acc = []\n",
    "for sev in tqdm([1, 2, 3, 4, 5]):\n",
    "    loader = imagenet_c_dataloader(corruption_name='gaussian_noise', severity=sev, batch_size=64, transform=transform)\n",
    "    gaussian_noise_acc.append(get_test_acc(model, loader, device))"
   ],
   "metadata": {
    "collapsed": false,
    "is_executing": true,
    "ExecuteTime": {
     "start_time": "2023-07-29T20:58:13.849798100Z"
    }
   },
   "id": "2e3290c303490e1a"
  },
  {
   "cell_type": "code",
   "execution_count": null,
   "outputs": [],
   "source": [
    "gaussian_noise_acc"
   ],
   "metadata": {
    "collapsed": false,
    "is_executing": true
   },
   "id": "bbf062795c8c2e35"
  },
  {
   "cell_type": "code",
   "execution_count": null,
   "outputs": [],
   "source": [
    "impulse_noise_acc = []\n",
    "for sev in tqdm([1, 2, 3, 4, 5]):\n",
    "    loader = imagenet_c_dataloader(corruption_name='impulse_noise', severity=sev, batch_size=256, transform=transform)\n",
    "    impulse_noise_acc.append(get_test_acc(model, loader, device))"
   ],
   "metadata": {
    "collapsed": false,
    "is_executing": true
   },
   "id": "639327af1282da6a"
  },
  {
   "cell_type": "code",
   "execution_count": null,
   "outputs": [],
   "source": [
    "impulse_noise_acc"
   ],
   "metadata": {
    "collapsed": false,
    "is_executing": true
   },
   "id": "33656d356894eb27"
  },
  {
   "cell_type": "code",
   "execution_count": null,
   "outputs": [],
   "source": [
    "shot_noise_acc = []\n",
    "for sev in tqdm([1, 2, 3, 4, 5]):\n",
    "    loader = imagenet_c_dataloader(corruption_name='shot_noise', severity=sev, batch_size=256, transform=transform)\n",
    "    shot_noise_acc.append(get_test_acc(model, loader, device))"
   ],
   "metadata": {
    "collapsed": false,
    "is_executing": true
   },
   "id": "48121d38936a8bf7"
  },
  {
   "cell_type": "code",
   "execution_count": null,
   "outputs": [],
   "source": [
    "shot_noise_acc"
   ],
   "metadata": {
    "collapsed": false,
    "is_executing": true
   },
   "id": "33c778144b0509fb"
  },
  {
   "cell_type": "code",
   "execution_count": null,
   "outputs": [],
   "source": [
    "speckle_noise_acc = []\n",
    "for sev in tqdm([1, 2, 3, 4, 5]):\n",
    "    loader = imagenet_c_dataloader(corruption_name='speckle_noise', severity=sev, batch_size=256, transform=transform)\n",
    "    speckle_noise_acc.append(get_test_acc(model, loader, device))"
   ],
   "metadata": {
    "collapsed": false,
    "is_executing": true
   },
   "id": "f8bb1cdcb0c2d719"
  },
  {
   "cell_type": "code",
   "execution_count": null,
   "outputs": [],
   "source": [
    "speckle_noise_acc"
   ],
   "metadata": {
    "collapsed": false,
    "is_executing": true
   },
   "id": "524810ab0581f624"
  },
  {
   "cell_type": "code",
   "execution_count": null,
   "outputs": [],
   "source": [
    "loader = imagenet_dataloader(batch_size=256, transform=transform)\n",
    "clean_acc = get_test_acc(model, loader, device)"
   ],
   "metadata": {
    "collapsed": false,
    "is_executing": true
   },
   "id": "13674248c39e8ed2"
  },
  {
   "cell_type": "code",
   "execution_count": null,
   "outputs": [],
   "source": [
    "clean_acc"
   ],
   "metadata": {
    "collapsed": false,
    "is_executing": true
   },
   "id": "2c83e158b5d6f7e2"
  }
 ],
 "metadata": {
  "kernelspec": {
   "display_name": "Python 3",
   "language": "python",
   "name": "python3"
  },
  "language_info": {
   "codemirror_mode": {
    "name": "ipython",
    "version": 2
   },
   "file_extension": ".py",
   "mimetype": "text/x-python",
   "name": "python",
   "nbconvert_exporter": "python",
   "pygments_lexer": "ipython2",
   "version": "2.7.6"
  }
 },
 "nbformat": 4,
 "nbformat_minor": 5
}
