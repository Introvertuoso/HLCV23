{
 "cells": [
  {
   "cell_type": "code",
   "execution_count": 1,
   "id": "initial_id",
   "metadata": {
    "collapsed": true,
    "ExecuteTime": {
     "end_time": "2023-07-30T00:49:23.000124400Z",
     "start_time": "2023-07-30T00:49:20.686444400Z"
    }
   },
   "outputs": [],
   "source": [
    "import torch\n",
    "import clip\n",
    "\n",
    "from src.dataloaders import caltech_c_dataloader, caltech_dataloader\n",
    "from tqdm.notebook import tqdm\n",
    "from src.clip import get_image_features\n",
    "from src.knn_clf_score import extract_ds_features, knn_classifier"
   ]
  },
  {
   "cell_type": "code",
   "execution_count": 2,
   "outputs": [
    {
     "name": "stdout",
     "output_type": "stream",
     "text": [
      "cuda\n"
     ]
    }
   ],
   "source": [
    "device = \"cuda\" if torch.cuda.is_available() else \"cpu\"\n",
    "print(device)"
   ],
   "metadata": {
    "collapsed": false,
    "ExecuteTime": {
     "end_time": "2023-07-30T00:49:23.017079100Z",
     "start_time": "2023-07-30T00:49:23.003418300Z"
    }
   },
   "id": "2142564ca8beda54"
  },
  {
   "cell_type": "code",
   "execution_count": 3,
   "outputs": [],
   "source": [
    "model, transform = clip.load(\"ViT-B/32\", device=device)"
   ],
   "metadata": {
    "collapsed": false,
    "ExecuteTime": {
     "end_time": "2023-07-30T00:49:26.263077700Z",
     "start_time": "2023-07-30T00:49:23.020075300Z"
    }
   },
   "id": "820ef1e1d7aff518"
  },
  {
   "cell_type": "code",
   "execution_count": 4,
   "outputs": [
    {
     "data": {
      "text/plain": "  0%|          | 0/5 [00:00<?, ?it/s]",
      "application/vnd.jupyter.widget-view+json": {
       "version_major": 2,
       "version_minor": 0,
       "model_id": "03d49a47ee734bd6a8584d9845265a12"
      }
     },
     "metadata": {},
     "output_type": "display_data"
    },
    {
     "data": {
      "text/plain": "  0%|          | 0/21 [00:00<?, ?it/s]",
      "application/vnd.jupyter.widget-view+json": {
       "version_major": 2,
       "version_minor": 0,
       "model_id": "95f25c5121694344b1ca7017c1f9efab"
      }
     },
     "metadata": {},
     "output_type": "display_data"
    },
    {
     "data": {
      "text/plain": "  0%|          | 0/101 [00:00<?, ?it/s]",
      "application/vnd.jupyter.widget-view+json": {
       "version_major": 2,
       "version_minor": 0,
       "model_id": "bb95c2873e0d4eccad6e366fc795b0e7"
      }
     },
     "metadata": {},
     "output_type": "display_data"
    },
    {
     "name": "stderr",
     "output_type": "stream",
     "text": [
      "C:\\Users\\j2010\\PycharmProjects\\HLCV23\\src\\knn_clf_score.py:67: UserWarning: Implicit dimension choice for softmax has been deprecated. Change the call to include dim=X as an argument.\n",
      "  distances_transform = F.softmax(distances)\n"
     ]
    },
    {
     "data": {
      "text/plain": "  0%|          | 0/21 [00:00<?, ?it/s]",
      "application/vnd.jupyter.widget-view+json": {
       "version_major": 2,
       "version_minor": 0,
       "model_id": "51bbf2314793497b82609bb8bf5ae097"
      }
     },
     "metadata": {},
     "output_type": "display_data"
    },
    {
     "data": {
      "text/plain": "  0%|          | 0/101 [00:00<?, ?it/s]",
      "application/vnd.jupyter.widget-view+json": {
       "version_major": 2,
       "version_minor": 0,
       "model_id": "e89ebbf83d304230ac1b190cd78fde78"
      }
     },
     "metadata": {},
     "output_type": "display_data"
    },
    {
     "data": {
      "text/plain": "  0%|          | 0/21 [00:00<?, ?it/s]",
      "application/vnd.jupyter.widget-view+json": {
       "version_major": 2,
       "version_minor": 0,
       "model_id": "1f9f1937abaa427c8ed4fbfcb3fe91ea"
      }
     },
     "metadata": {},
     "output_type": "display_data"
    },
    {
     "data": {
      "text/plain": "  0%|          | 0/101 [00:00<?, ?it/s]",
      "application/vnd.jupyter.widget-view+json": {
       "version_major": 2,
       "version_minor": 0,
       "model_id": "3156d27795074c348376d95a4deba25f"
      }
     },
     "metadata": {},
     "output_type": "display_data"
    },
    {
     "data": {
      "text/plain": "  0%|          | 0/21 [00:00<?, ?it/s]",
      "application/vnd.jupyter.widget-view+json": {
       "version_major": 2,
       "version_minor": 0,
       "model_id": "ee5a46d69a114bd7846110a3c170bdfc"
      }
     },
     "metadata": {},
     "output_type": "display_data"
    },
    {
     "data": {
      "text/plain": "  0%|          | 0/101 [00:00<?, ?it/s]",
      "application/vnd.jupyter.widget-view+json": {
       "version_major": 2,
       "version_minor": 0,
       "model_id": "12a7706860ab4b14be3f2de7af3a3359"
      }
     },
     "metadata": {},
     "output_type": "display_data"
    },
    {
     "data": {
      "text/plain": "  0%|          | 0/21 [00:00<?, ?it/s]",
      "application/vnd.jupyter.widget-view+json": {
       "version_major": 2,
       "version_minor": 0,
       "model_id": "6838b854666c40bf8d9389362c3e5397"
      }
     },
     "metadata": {},
     "output_type": "display_data"
    },
    {
     "data": {
      "text/plain": "  0%|          | 0/101 [00:00<?, ?it/s]",
      "application/vnd.jupyter.widget-view+json": {
       "version_major": 2,
       "version_minor": 0,
       "model_id": "91393ebc81e94be78535a2eff5e1141e"
      }
     },
     "metadata": {},
     "output_type": "display_data"
    }
   ],
   "source": [
    "gaussian_noise_acc = []\n",
    "for sev in tqdm([1, 2, 3, 4, 5]):\n",
    "    loader = caltech_c_dataloader(corruption_name='gaussian_noise', severity=sev, batch_size=256, transform=transform)\n",
    "    features, labels = extract_ds_features(model, loader, get_image_features, device)\n",
    "    gaussian_noise_acc.append([knn_classifier(features, labels, features, labels, num_classes=101)])"
   ],
   "metadata": {
    "collapsed": false,
    "ExecuteTime": {
     "end_time": "2023-07-30T00:50:39.148523500Z",
     "start_time": "2023-07-30T00:49:26.266243200Z"
    }
   },
   "id": "25563222851179f5"
  },
  {
   "cell_type": "code",
   "execution_count": 5,
   "outputs": [
    {
     "data": {
      "text/plain": "[[(77.6930409914204, 92.1067683508103)],\n [(73.34604385128694, 89.05624404194471)],\n [(64.69018112488084, 82.32602478551001)],\n [(51.782650142993326, 72.8884652049571)],\n [(41.04861773117255, 64.51858913250715)]]"
     },
     "execution_count": 5,
     "metadata": {},
     "output_type": "execute_result"
    }
   ],
   "source": [
    "gaussian_noise_acc"
   ],
   "metadata": {
    "collapsed": false,
    "ExecuteTime": {
     "end_time": "2023-07-30T00:50:39.174454600Z",
     "start_time": "2023-07-30T00:50:39.142541Z"
    }
   },
   "id": "340cfc86057144d5"
  },
  {
   "cell_type": "code",
   "execution_count": 6,
   "outputs": [
    {
     "data": {
      "text/plain": "  0%|          | 0/5 [00:00<?, ?it/s]",
      "application/vnd.jupyter.widget-view+json": {
       "version_major": 2,
       "version_minor": 0,
       "model_id": "53d9ac4b76fb400796c6e39793a1cddf"
      }
     },
     "metadata": {},
     "output_type": "display_data"
    },
    {
     "data": {
      "text/plain": "  0%|          | 0/21 [00:00<?, ?it/s]",
      "application/vnd.jupyter.widget-view+json": {
       "version_major": 2,
       "version_minor": 0,
       "model_id": "227102a6a0c946879531c26d587fce4a"
      }
     },
     "metadata": {},
     "output_type": "display_data"
    },
    {
     "data": {
      "text/plain": "  0%|          | 0/101 [00:00<?, ?it/s]",
      "application/vnd.jupyter.widget-view+json": {
       "version_major": 2,
       "version_minor": 0,
       "model_id": "8b05eb914bbd47d18c191fe98564da6f"
      }
     },
     "metadata": {},
     "output_type": "display_data"
    },
    {
     "data": {
      "text/plain": "  0%|          | 0/21 [00:00<?, ?it/s]",
      "application/vnd.jupyter.widget-view+json": {
       "version_major": 2,
       "version_minor": 0,
       "model_id": "62b149c5884d4f2089b27ee3feef05eb"
      }
     },
     "metadata": {},
     "output_type": "display_data"
    },
    {
     "data": {
      "text/plain": "  0%|          | 0/101 [00:00<?, ?it/s]",
      "application/vnd.jupyter.widget-view+json": {
       "version_major": 2,
       "version_minor": 0,
       "model_id": "fa2c69339c8549ef87f7be8a5ef39060"
      }
     },
     "metadata": {},
     "output_type": "display_data"
    },
    {
     "data": {
      "text/plain": "  0%|          | 0/21 [00:00<?, ?it/s]",
      "application/vnd.jupyter.widget-view+json": {
       "version_major": 2,
       "version_minor": 0,
       "model_id": "31de745a5f1348778eb4ad788eebee8e"
      }
     },
     "metadata": {},
     "output_type": "display_data"
    },
    {
     "data": {
      "text/plain": "  0%|          | 0/101 [00:00<?, ?it/s]",
      "application/vnd.jupyter.widget-view+json": {
       "version_major": 2,
       "version_minor": 0,
       "model_id": "45fec39afd86439092cc82c9cef3502e"
      }
     },
     "metadata": {},
     "output_type": "display_data"
    },
    {
     "data": {
      "text/plain": "  0%|          | 0/21 [00:00<?, ?it/s]",
      "application/vnd.jupyter.widget-view+json": {
       "version_major": 2,
       "version_minor": 0,
       "model_id": "e87ab31afd324b01bdeffcbf5be66eb3"
      }
     },
     "metadata": {},
     "output_type": "display_data"
    },
    {
     "data": {
      "text/plain": "  0%|          | 0/101 [00:00<?, ?it/s]",
      "application/vnd.jupyter.widget-view+json": {
       "version_major": 2,
       "version_minor": 0,
       "model_id": "fdd5382a962140fea3536eefd35072c0"
      }
     },
     "metadata": {},
     "output_type": "display_data"
    },
    {
     "data": {
      "text/plain": "  0%|          | 0/21 [00:00<?, ?it/s]",
      "application/vnd.jupyter.widget-view+json": {
       "version_major": 2,
       "version_minor": 0,
       "model_id": "a997310be40246a3b8f872d3e5802917"
      }
     },
     "metadata": {},
     "output_type": "display_data"
    },
    {
     "data": {
      "text/plain": "  0%|          | 0/101 [00:00<?, ?it/s]",
      "application/vnd.jupyter.widget-view+json": {
       "version_major": 2,
       "version_minor": 0,
       "model_id": "851b7cbd13fd4896a683191abc84e339"
      }
     },
     "metadata": {},
     "output_type": "display_data"
    }
   ],
   "source": [
    "impulse_noise_acc = []\n",
    "for sev in tqdm([1, 2, 3, 4, 5]):\n",
    "    loader = caltech_c_dataloader(corruption_name='impulse_noise', severity=sev, batch_size=256, transform=transform)\n",
    "    features, labels = extract_ds_features(model, loader, get_image_features, device)\n",
    "    impulse_noise_acc.append([knn_classifier(features, labels, features, labels, num_classes=101)])"
   ],
   "metadata": {
    "collapsed": false,
    "ExecuteTime": {
     "end_time": "2023-07-30T00:51:46.887127500Z",
     "start_time": "2023-07-30T00:50:39.154508100Z"
    }
   },
   "id": "1deff9308799259d"
  },
  {
   "cell_type": "code",
   "execution_count": 7,
   "outputs": [
    {
     "data": {
      "text/plain": "[[(74.2230695900858, 89.66634890371783)],\n [(69.60915157292659, 86.86367969494756)],\n [(65.43374642516683, 83.05052430886559)],\n [(52.716873212583415, 73.36510962821735)],\n [(41.3536701620591, 64.09914204003813)]]"
     },
     "execution_count": 7,
     "metadata": {},
     "output_type": "execute_result"
    }
   ],
   "source": [
    "impulse_noise_acc"
   ],
   "metadata": {
    "collapsed": false,
    "ExecuteTime": {
     "end_time": "2023-07-30T00:51:46.910067800Z",
     "start_time": "2023-07-30T00:51:46.879149500Z"
    }
   },
   "id": "15b0fb553f41a575"
  },
  {
   "cell_type": "code",
   "execution_count": 8,
   "outputs": [
    {
     "data": {
      "text/plain": "  0%|          | 0/5 [00:00<?, ?it/s]",
      "application/vnd.jupyter.widget-view+json": {
       "version_major": 2,
       "version_minor": 0,
       "model_id": "6aee788acfa040ea8051e0faa63a0185"
      }
     },
     "metadata": {},
     "output_type": "display_data"
    },
    {
     "data": {
      "text/plain": "  0%|          | 0/21 [00:00<?, ?it/s]",
      "application/vnd.jupyter.widget-view+json": {
       "version_major": 2,
       "version_minor": 0,
       "model_id": "7609c0e9fbf0424eab993d4f6cdc7275"
      }
     },
     "metadata": {},
     "output_type": "display_data"
    },
    {
     "data": {
      "text/plain": "  0%|          | 0/101 [00:00<?, ?it/s]",
      "application/vnd.jupyter.widget-view+json": {
       "version_major": 2,
       "version_minor": 0,
       "model_id": "88bdc5c467fe43cf92d402bb93b71be7"
      }
     },
     "metadata": {},
     "output_type": "display_data"
    },
    {
     "data": {
      "text/plain": "  0%|          | 0/21 [00:00<?, ?it/s]",
      "application/vnd.jupyter.widget-view+json": {
       "version_major": 2,
       "version_minor": 0,
       "model_id": "e1c8e9a0052d41aab51b98516e9a46aa"
      }
     },
     "metadata": {},
     "output_type": "display_data"
    },
    {
     "data": {
      "text/plain": "  0%|          | 0/101 [00:00<?, ?it/s]",
      "application/vnd.jupyter.widget-view+json": {
       "version_major": 2,
       "version_minor": 0,
       "model_id": "3de89d474bed4dcd8fc97c5d14d8a522"
      }
     },
     "metadata": {},
     "output_type": "display_data"
    },
    {
     "data": {
      "text/plain": "  0%|          | 0/21 [00:00<?, ?it/s]",
      "application/vnd.jupyter.widget-view+json": {
       "version_major": 2,
       "version_minor": 0,
       "model_id": "500ffdd7ac4a412bbf06fe403af819d2"
      }
     },
     "metadata": {},
     "output_type": "display_data"
    },
    {
     "data": {
      "text/plain": "  0%|          | 0/101 [00:00<?, ?it/s]",
      "application/vnd.jupyter.widget-view+json": {
       "version_major": 2,
       "version_minor": 0,
       "model_id": "ae5f7ddfb6fa483ca958b963efe24e45"
      }
     },
     "metadata": {},
     "output_type": "display_data"
    },
    {
     "data": {
      "text/plain": "  0%|          | 0/21 [00:00<?, ?it/s]",
      "application/vnd.jupyter.widget-view+json": {
       "version_major": 2,
       "version_minor": 0,
       "model_id": "f919c75a7b9e42be80e7cc75088b1f70"
      }
     },
     "metadata": {},
     "output_type": "display_data"
    },
    {
     "data": {
      "text/plain": "  0%|          | 0/101 [00:00<?, ?it/s]",
      "application/vnd.jupyter.widget-view+json": {
       "version_major": 2,
       "version_minor": 0,
       "model_id": "b6f60f5f3989418ebba1875c33bdd358"
      }
     },
     "metadata": {},
     "output_type": "display_data"
    },
    {
     "data": {
      "text/plain": "  0%|          | 0/21 [00:00<?, ?it/s]",
      "application/vnd.jupyter.widget-view+json": {
       "version_major": 2,
       "version_minor": 0,
       "model_id": "2f29b4f59999439b85cb093812397e58"
      }
     },
     "metadata": {},
     "output_type": "display_data"
    },
    {
     "data": {
      "text/plain": "  0%|          | 0/101 [00:00<?, ?it/s]",
      "application/vnd.jupyter.widget-view+json": {
       "version_major": 2,
       "version_minor": 0,
       "model_id": "b3fd3f6cb1b04e828d2b50bbb4b56915"
      }
     },
     "metadata": {},
     "output_type": "display_data"
    }
   ],
   "source": [
    "shot_noise_acc = []\n",
    "for sev in tqdm([1, 2, 3, 4, 5]):\n",
    "    loader = caltech_c_dataloader(corruption_name='shot_noise', severity=sev, batch_size=256, transform=transform)\n",
    "    features, labels = extract_ds_features(model, loader, get_image_features, device)\n",
    "    shot_noise_acc.append([knn_classifier(features, labels, features, labels, num_classes=101)])"
   ],
   "metadata": {
    "collapsed": false,
    "ExecuteTime": {
     "end_time": "2023-07-30T00:52:58.606733Z",
     "start_time": "2023-07-30T00:51:46.893114400Z"
    }
   },
   "id": "a34a89662ef83503"
  },
  {
   "cell_type": "code",
   "execution_count": 9,
   "outputs": [
    {
     "data": {
      "text/plain": "[[(75.32888465204957, 90.0095328884652)],\n [(69.28503336510963, 86.61582459485224)],\n [(57.94089609151573, 79.10390848427073)],\n [(48.06482364156339, 70.50524308865586)],\n [(39.71401334604385, 63.94661582459485)]]"
     },
     "execution_count": 9,
     "metadata": {},
     "output_type": "execute_result"
    }
   ],
   "source": [
    "shot_noise_acc"
   ],
   "metadata": {
    "collapsed": false,
    "ExecuteTime": {
     "end_time": "2023-07-30T00:52:58.620695200Z",
     "start_time": "2023-07-30T00:52:58.608728300Z"
    }
   },
   "id": "fd68b607067e9ffe"
  },
  {
   "cell_type": "code",
   "execution_count": 10,
   "outputs": [
    {
     "data": {
      "text/plain": "  0%|          | 0/5 [00:00<?, ?it/s]",
      "application/vnd.jupyter.widget-view+json": {
       "version_major": 2,
       "version_minor": 0,
       "model_id": "3a01ef6376b4408aa9bebb0cf77ce9c3"
      }
     },
     "metadata": {},
     "output_type": "display_data"
    },
    {
     "data": {
      "text/plain": "  0%|          | 0/21 [00:00<?, ?it/s]",
      "application/vnd.jupyter.widget-view+json": {
       "version_major": 2,
       "version_minor": 0,
       "model_id": "e9b43354bf424c908439a01f391f6f8d"
      }
     },
     "metadata": {},
     "output_type": "display_data"
    },
    {
     "data": {
      "text/plain": "  0%|          | 0/101 [00:00<?, ?it/s]",
      "application/vnd.jupyter.widget-view+json": {
       "version_major": 2,
       "version_minor": 0,
       "model_id": "9bb7a1467e8b4d4f956ed875552ba7e7"
      }
     },
     "metadata": {},
     "output_type": "display_data"
    },
    {
     "data": {
      "text/plain": "  0%|          | 0/21 [00:00<?, ?it/s]",
      "application/vnd.jupyter.widget-view+json": {
       "version_major": 2,
       "version_minor": 0,
       "model_id": "e45fa29956d7406cb973d20a59186879"
      }
     },
     "metadata": {},
     "output_type": "display_data"
    },
    {
     "data": {
      "text/plain": "  0%|          | 0/101 [00:00<?, ?it/s]",
      "application/vnd.jupyter.widget-view+json": {
       "version_major": 2,
       "version_minor": 0,
       "model_id": "d2b5b5aa500d4052b2255dfada0883e1"
      }
     },
     "metadata": {},
     "output_type": "display_data"
    },
    {
     "data": {
      "text/plain": "  0%|          | 0/21 [00:00<?, ?it/s]",
      "application/vnd.jupyter.widget-view+json": {
       "version_major": 2,
       "version_minor": 0,
       "model_id": "45ecc0da12e242508cff2b47937b20a8"
      }
     },
     "metadata": {},
     "output_type": "display_data"
    },
    {
     "data": {
      "text/plain": "  0%|          | 0/101 [00:00<?, ?it/s]",
      "application/vnd.jupyter.widget-view+json": {
       "version_major": 2,
       "version_minor": 0,
       "model_id": "e6c741783867439a8f5376c58602a68a"
      }
     },
     "metadata": {},
     "output_type": "display_data"
    },
    {
     "data": {
      "text/plain": "  0%|          | 0/21 [00:00<?, ?it/s]",
      "application/vnd.jupyter.widget-view+json": {
       "version_major": 2,
       "version_minor": 0,
       "model_id": "3a2baee3f03e469aa147852072a515e2"
      }
     },
     "metadata": {},
     "output_type": "display_data"
    },
    {
     "data": {
      "text/plain": "  0%|          | 0/101 [00:00<?, ?it/s]",
      "application/vnd.jupyter.widget-view+json": {
       "version_major": 2,
       "version_minor": 0,
       "model_id": "aaa63079293340039510441818e1be54"
      }
     },
     "metadata": {},
     "output_type": "display_data"
    },
    {
     "data": {
      "text/plain": "  0%|          | 0/21 [00:00<?, ?it/s]",
      "application/vnd.jupyter.widget-view+json": {
       "version_major": 2,
       "version_minor": 0,
       "model_id": "6f69b6f8c96e41c4a91ffe15e790114d"
      }
     },
     "metadata": {},
     "output_type": "display_data"
    },
    {
     "data": {
      "text/plain": "  0%|          | 0/101 [00:00<?, ?it/s]",
      "application/vnd.jupyter.widget-view+json": {
       "version_major": 2,
       "version_minor": 0,
       "model_id": "76c3072b612944e4bfed991e53124998"
      }
     },
     "metadata": {},
     "output_type": "display_data"
    }
   ],
   "source": [
    "speckle_noise_acc = []\n",
    "for sev in tqdm([1, 2, 3, 4, 5]):\n",
    "    loader = caltech_c_dataloader(corruption_name='speckle_noise', severity=sev, batch_size=256, transform=transform)\n",
    "    features, labels = extract_ds_features(model, loader, get_image_features, device)\n",
    "    speckle_noise_acc.append([knn_classifier(features, labels, features, labels, num_classes=101)])"
   ],
   "metadata": {
    "collapsed": false,
    "ExecuteTime": {
     "end_time": "2023-07-30T00:54:08.580950300Z",
     "start_time": "2023-07-30T00:52:58.624684200Z"
    }
   },
   "id": "1983bf8884df3e0a"
  },
  {
   "cell_type": "code",
   "execution_count": 11,
   "outputs": [
    {
     "data": {
      "text/plain": "[[(76.22497616777883, 90.88655862726407)],\n [(72.2974261201144, 88.14108674928504)],\n [(60.22878932316492, 80.7626310772164)],\n [(53.975214489990464, 75.9580552907531)],\n [(45.51000953288847, 69.13250714966635)]]"
     },
     "execution_count": 11,
     "metadata": {},
     "output_type": "execute_result"
    }
   ],
   "source": [
    "speckle_noise_acc"
   ],
   "metadata": {
    "collapsed": false,
    "ExecuteTime": {
     "end_time": "2023-07-30T00:54:08.605883700Z",
     "start_time": "2023-07-30T00:54:08.581948600Z"
    }
   },
   "id": "f24692d8fae8698a"
  },
  {
   "cell_type": "code",
   "execution_count": 12,
   "outputs": [
    {
     "data": {
      "text/plain": "  0%|          | 0/21 [00:00<?, ?it/s]",
      "application/vnd.jupyter.widget-view+json": {
       "version_major": 2,
       "version_minor": 0,
       "model_id": "f0582ac1757e4872981e02aa8cfcd1ea"
      }
     },
     "metadata": {},
     "output_type": "display_data"
    },
    {
     "data": {
      "text/plain": "  0%|          | 0/101 [00:00<?, ?it/s]",
      "application/vnd.jupyter.widget-view+json": {
       "version_major": 2,
       "version_minor": 0,
       "model_id": "337398f42719403e88e8770333a68b34"
      }
     },
     "metadata": {},
     "output_type": "display_data"
    }
   ],
   "source": [
    "loader = caltech_dataloader(batch_size=256, transform=transform)\n",
    "features, labels = extract_ds_features(model, loader, get_image_features, device)\n",
    "clean_top1, clean_top5 = knn_classifier(features, labels, features, labels, num_classes=101)"
   ],
   "metadata": {
    "collapsed": false,
    "ExecuteTime": {
     "end_time": "2023-07-30T00:54:27.020882600Z",
     "start_time": "2023-07-30T00:54:08.595911700Z"
    }
   },
   "id": "d768697bf4a40a85"
  },
  {
   "cell_type": "code",
   "execution_count": 13,
   "outputs": [
    {
     "name": "stdout",
     "output_type": "stream",
     "text": [
      "83.03145853193517 95.7483317445186\n"
     ]
    }
   ],
   "source": [
    "print(clean_top1, clean_top5)"
   ],
   "metadata": {
    "collapsed": false,
    "ExecuteTime": {
     "end_time": "2023-07-30T00:54:27.039833300Z",
     "start_time": "2023-07-30T00:54:27.014899Z"
    }
   },
   "id": "4fd9188cef09c515"
  },
  {
   "cell_type": "code",
   "execution_count": 14,
   "outputs": [
    {
     "data": {
      "text/plain": "{'gaussian_noise_acc': [[(77.6930409914204, 92.1067683508103)],\n  [(73.34604385128694, 89.05624404194471)],\n  [(64.69018112488084, 82.32602478551001)],\n  [(51.782650142993326, 72.8884652049571)],\n  [(41.04861773117255, 64.51858913250715)]],\n 'impulse_noise_acc': [[(74.2230695900858, 89.66634890371783)],\n  [(69.60915157292659, 86.86367969494756)],\n  [(65.43374642516683, 83.05052430886559)],\n  [(52.716873212583415, 73.36510962821735)],\n  [(41.3536701620591, 64.09914204003813)]],\n 'shot_noise_acc': [[(75.32888465204957, 90.0095328884652)],\n  [(69.28503336510963, 86.61582459485224)],\n  [(57.94089609151573, 79.10390848427073)],\n  [(48.06482364156339, 70.50524308865586)],\n  [(39.71401334604385, 63.94661582459485)]],\n 'speckle_noise_acc': [[(76.22497616777883, 90.88655862726407)],\n  [(72.2974261201144, 88.14108674928504)],\n  [(60.22878932316492, 80.7626310772164)],\n  [(53.975214489990464, 75.9580552907531)],\n  [(45.51000953288847, 69.13250714966635)]],\n 'clean_acc': [83.03145853193517, 95.7483317445186]}"
     },
     "execution_count": 14,
     "metadata": {},
     "output_type": "execute_result"
    }
   ],
   "source": [
    "res = {\n",
    "    'gaussian_noise_acc' : gaussian_noise_acc,\n",
    "    'impulse_noise_acc' : impulse_noise_acc,\n",
    "    'shot_noise_acc': shot_noise_acc,\n",
    "    'speckle_noise_acc': speckle_noise_acc,\n",
    "    'clean_acc': [clean_top1, clean_top5]\n",
    "}\n",
    "res"
   ],
   "metadata": {
    "collapsed": false,
    "ExecuteTime": {
     "end_time": "2023-07-30T00:54:27.054792800Z",
     "start_time": "2023-07-30T00:54:27.030857400Z"
    }
   },
   "id": "4c1ca4de0c6c0737"
  },
  {
   "cell_type": "code",
   "execution_count": 14,
   "outputs": [],
   "source": [],
   "metadata": {
    "collapsed": false,
    "ExecuteTime": {
     "end_time": "2023-07-30T00:54:27.085709200Z",
     "start_time": "2023-07-30T00:54:27.044820300Z"
    }
   },
   "id": "2a12fef528ec3573"
  }
 ],
 "metadata": {
  "kernelspec": {
   "display_name": "Python 3",
   "language": "python",
   "name": "python3"
  },
  "language_info": {
   "codemirror_mode": {
    "name": "ipython",
    "version": 2
   },
   "file_extension": ".py",
   "mimetype": "text/x-python",
   "name": "python",
   "nbconvert_exporter": "python",
   "pygments_lexer": "ipython2",
   "version": "2.7.6"
  }
 },
 "nbformat": 4,
 "nbformat_minor": 5
}
