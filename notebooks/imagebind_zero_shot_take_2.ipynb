{
 "cells": [
  {
   "cell_type": "code",
   "execution_count": null,
   "outputs": [],
   "source": [
    "import torch\n",
    "import os\n",
    "\n",
    "import numpy as np\n",
    "\n",
    "from imagebind import data\n",
    "from imagebind.models import imagebind_model\n",
    "from src.imagenet_labels import lab_dict\n",
    "from tqdm.notebook import tqdm\n",
    "from imagebind.models.imagebind_model import ModalityType"
   ],
   "metadata": {
    "collapsed": false
   },
   "id": "35bb5fbfb90e219b"
  },
  {
   "cell_type": "code",
   "execution_count": null,
   "outputs": [],
   "source": [
    "device = \"cuda:0\" if torch.cuda.is_available() else \"cpu\""
   ],
   "metadata": {
    "collapsed": false
   },
   "id": "aa7dd240ea3f39a7"
  },
  {
   "cell_type": "code",
   "execution_count": null,
   "outputs": [],
   "source": [
    "model = imagebind_model.imagebind_huge(pretrained=True)\n",
    "model.eval()\n",
    "model.to(device)"
   ],
   "metadata": {
    "collapsed": false
   },
   "id": "da77d4e349d77c04"
  },
  {
   "cell_type": "code",
   "execution_count": null,
   "outputs": [],
   "source": [
    "text_list = [lab_dict[i].replace('_', ' ') for i in os.listdir('../data/imagenet')]\n",
    "text_list = [f\"a {c}\" for c in text_list]"
   ],
   "metadata": {
    "collapsed": false
   },
   "id": "ad170844af435e0f"
  },
  {
   "cell_type": "code",
   "execution_count": null,
   "outputs": [],
   "source": [
    "def get_acc(gt, preds = None):\n",
    "    if preds is not None: \n",
    "        return ((preds.argmax(1)==gt).sum()/len(preds)).cpu().numpy()\n",
    "    return ((preds.argmax(1)==gt).sum()/len(preds)).cpu().numpy()\n",
    "\n",
    "\n",
    "def compute(model, text, images, labels, device):\n",
    "    inputs = {\n",
    "        ModalityType.TEXT: data.load_and_transform_text(text, device),\n",
    "        ModalityType.VISION: data.load_and_transform_vision_data(images, device),\n",
    "    }\n",
    "    \n",
    "    with torch.no_grad():\n",
    "        embeddings = model(inputs)\n",
    "    \n",
    "    probs = torch.softmax(embeddings[ModalityType.VISION] @ embeddings[ModalityType.TEXT].T, dim=-1)\n",
    "    val_acc = get_acc(labels, probs)\n",
    "    return val_acc\n",
    "    \n",
    "def get_image_paths(root):\n",
    "    path_dict = {}\n",
    "    for cls in tqdm(os.listdir(root)):\n",
    "        path_list = []\n",
    "        cls_path = os.path.join(root, cls)\n",
    "        for img in os.listdir(cls_path):\n",
    "            img_path = os.path.join(cls_path, img)\n",
    "            path_list.append(img_path)\n",
    "        path_dict[lab_dict[cls].replace('_', ' ')] = path_list\n",
    "    return path_dict\n",
    "\n",
    "def get_test_acc(image_paths, device):\n",
    "    eval_acc = []\n",
    "    for i in tqdm(range(len(text_list))):\n",
    "        eval_acc.append(\n",
    "            compute(model, text_list, image_paths[text_list[i][2:]], torch.tensor([i]*50), device)\n",
    "        ) # 50 samples per class; first 2 chars are \"a \"\n",
    "        \n",
    "    return np.mean(eval_acc)"
   ],
   "metadata": {
    "collapsed": false
   },
   "id": "17fc83c87675e064"
  },
  {
   "cell_type": "code",
   "execution_count": null,
   "outputs": [],
   "source": [
    "path_to_imagenet = '../data/imagenet'\n",
    "path_to_imagenet_c = '../data/imagenet-c'"
   ],
   "metadata": {
    "collapsed": false
   },
   "id": "fe79c4264af52136"
  },
  {
   "cell_type": "code",
   "execution_count": null,
   "outputs": [],
   "source": [
    "image_paths = get_image_paths(path_to_imagenet)\n",
    "clean_acc = get_test_acc(image_paths, device)"
   ],
   "metadata": {
    "collapsed": false
   },
   "id": "6823ba46efa12abf"
  },
  {
   "cell_type": "code",
   "execution_count": null,
   "outputs": [],
   "source": [
    "clean_acc"
   ],
   "metadata": {
    "collapsed": false
   },
   "id": "5ec4b6d6e369adb2"
  },
  {
   "cell_type": "code",
   "execution_count": null,
   "outputs": [],
   "source": [
    "gaussian_noise_acc = []\n",
    "for sev in tqdm([1, 2, 3, 4, 5]):\n",
    "    image_paths = get_image_paths(os.path.join(path_to_imagenet_c, 'gaussian_noise', str(sev)))\n",
    "    gaussian_noise_acc.append(get_test_acc(image_paths, device))"
   ],
   "metadata": {
    "collapsed": false
   },
   "id": "c4ccd33eae90b003"
  },
  {
   "cell_type": "code",
   "execution_count": null,
   "outputs": [],
   "source": [
    "gaussian_noise_acc"
   ],
   "metadata": {
    "collapsed": false
   },
   "id": "d0617b83885c39e6"
  },
  {
   "cell_type": "code",
   "execution_count": null,
   "outputs": [],
   "source": [
    "impulse_noise_acc = []\n",
    "for sev in tqdm([1, 2, 3, 4, 5]):\n",
    "    image_paths = get_image_paths(os.path.join(path_to_imagenet_c, 'impulse_noise', str(sev)))\n",
    "    impulse_noise_acc.append(get_test_acc(image_paths, device))"
   ],
   "metadata": {
    "collapsed": false
   },
   "id": "c0aa274541b78fa5"
  },
  {
   "cell_type": "code",
   "execution_count": null,
   "outputs": [],
   "source": [
    "impulse_noise_acc"
   ],
   "metadata": {
    "collapsed": false
   },
   "id": "3540fe866d491ca9"
  },
  {
   "cell_type": "code",
   "execution_count": null,
   "outputs": [],
   "source": [
    "shot_noise_acc = []\n",
    "for sev in tqdm([1, 2, 3, 4, 5]):\n",
    "    image_paths = get_image_paths(os.path.join(path_to_imagenet_c, 'shot_noise', str(sev)))\n",
    "    shot_noise_acc.append(get_test_acc(image_paths, device))"
   ],
   "metadata": {
    "collapsed": false
   },
   "id": "1b5a6d56e0ebc3ae"
  },
  {
   "cell_type": "code",
   "execution_count": null,
   "outputs": [],
   "source": [
    "shot_noise_acc"
   ],
   "metadata": {
    "collapsed": false
   },
   "id": "b056e354e1a23504"
  },
  {
   "cell_type": "code",
   "execution_count": null,
   "outputs": [],
   "source": [
    "speckle_noise_acc = []\n",
    "for sev in tqdm([1, 2, 3, 4, 5]):\n",
    "    image_paths = get_image_paths(os.path.join(path_to_imagenet_c, 'speckle_noise', str(sev)))\n",
    "    speckle_noise_acc.append(get_test_acc(image_paths, device))"
   ],
   "metadata": {
    "collapsed": false
   },
   "id": "c392d959cdf2acc2"
  },
  {
   "cell_type": "code",
   "execution_count": null,
   "outputs": [],
   "source": [
    "speckle_noise_acc"
   ],
   "metadata": {
    "collapsed": false
   },
   "id": "2c16240067fab48a"
  },
  {
   "cell_type": "code",
   "execution_count": null,
   "outputs": [],
   "source": [
    "res = {\n",
    "    'gaussian_noise_acc' : gaussian_noise_acc,\n",
    "    'impulse_noise_acc' : impulse_noise_acc,\n",
    "    'shot_noise_acc': shot_noise_acc,\n",
    "    'speckle_noise_acc': speckle_noise_acc,\n",
    "    'clean_acc': clean_acc\n",
    "}"
   ],
   "metadata": {
    "collapsed": false
   },
   "id": "32650508eae5c713"
  },
  {
   "cell_type": "code",
   "execution_count": null,
   "outputs": [],
   "source": [
    "res"
   ],
   "metadata": {
    "collapsed": false
   },
   "id": "ea76b035410d975f"
  }
 ],
 "metadata": {
  "kernelspec": {
   "display_name": "Python 3",
   "language": "python",
   "name": "python3"
  },
  "language_info": {
   "codemirror_mode": {
    "name": "ipython",
    "version": 2
   },
   "file_extension": ".py",
   "mimetype": "text/x-python",
   "name": "python",
   "nbconvert_exporter": "python",
   "pygments_lexer": "ipython2",
   "version": "2.7.6"
  }
 },
 "nbformat": 4,
 "nbformat_minor": 5
}
