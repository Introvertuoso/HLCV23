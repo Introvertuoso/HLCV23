{
 "cells": [
  {
   "cell_type": "code",
   "execution_count": 1,
   "outputs": [],
   "source": [
    "import torch\n",
    "import clip\n",
    "import os\n",
    "\n",
    "import numpy as np\n",
    "\n",
    "from src.imagenet_labels import lab_dict\n",
    "from tqdm.notebook import tqdm\n",
    "from src.dataloaders import imagenet_c_dataloader, imagenet_dataloader"
   ],
   "metadata": {
    "collapsed": false,
    "ExecuteTime": {
     "end_time": "2023-07-27T19:07:48.549372700Z",
     "start_time": "2023-07-27T19:07:45.917591700Z"
    }
   },
   "id": "43171beee3254d87"
  },
  {
   "cell_type": "code",
   "execution_count": 2,
   "outputs": [
    {
     "name": "stdout",
     "output_type": "stream",
     "text": [
      "cuda\n"
     ]
    }
   ],
   "source": [
    "device = \"cuda\" if torch.cuda.is_available() else \"cpu\"\n",
    "print(device)"
   ],
   "metadata": {
    "collapsed": false,
    "ExecuteTime": {
     "end_time": "2023-07-27T19:07:48.567336700Z",
     "start_time": "2023-07-27T19:07:48.551368200Z"
    }
   },
   "id": "bc8b022836f065"
  },
  {
   "cell_type": "code",
   "execution_count": 3,
   "outputs": [],
   "source": [
    "model, transform = clip.load(\"ViT-B/32\", device=\"cpu\")"
   ],
   "metadata": {
    "collapsed": false,
    "ExecuteTime": {
     "end_time": "2023-07-27T19:07:52.175340500Z",
     "start_time": "2023-07-27T19:07:48.567336700Z"
    }
   },
   "id": "fb872440af696dd5"
  },
  {
   "cell_type": "code",
   "execution_count": 4,
   "outputs": [],
   "source": [
    "cls_names = [lab_dict[i].replace('_', ' ') for i in os.listdir('../data/imagenet')]\n",
    "cls_names = torch.cat([clip.tokenize(f\"a photo of a {c}\") for c in cls_names]).to(\"cpu\")"
   ],
   "metadata": {
    "collapsed": false,
    "ExecuteTime": {
     "end_time": "2023-07-27T19:07:52.453595400Z",
     "start_time": "2023-07-27T19:07:52.175340500Z"
    }
   },
   "id": "e5b852b63cb0b15e"
  },
  {
   "cell_type": "code",
   "execution_count": 5,
   "outputs": [],
   "source": [
    "text_features = model.encode_text(cls_names)\n",
    "text_features /= text_features.norm(dim=-1, keepdim=True)"
   ],
   "metadata": {
    "collapsed": false,
    "ExecuteTime": {
     "end_time": "2023-07-27T19:09:29.723115200Z",
     "start_time": "2023-07-27T19:07:52.456588400Z"
    }
   },
   "id": "914b3451c6cda835"
  },
  {
   "cell_type": "code",
   "execution_count": 6,
   "outputs": [],
   "source": [
    "model = model.to(device)"
   ],
   "metadata": {
    "collapsed": false,
    "ExecuteTime": {
     "end_time": "2023-07-27T19:09:33.015006200Z",
     "start_time": "2023-07-27T19:09:29.685435800Z"
    }
   },
   "id": "797b6606cb87a7f8"
  },
  {
   "cell_type": "code",
   "execution_count": 11,
   "outputs": [],
   "source": [
    "def get_acc(gt, preds = None):\n",
    "    if preds is not None: \n",
    "        return ((preds.argmax(1)==gt).sum()/len(preds)).cpu().numpy()\n",
    "    return ((preds.argmax(1)==gt).sum()/len(preds)).cpu().numpy()\n",
    "    \n",
    "\n",
    "def get_test_acc(model, loader, device='cuda'):\n",
    "    eval_acc = []\n",
    "    for batch in tqdm(loader, leave=False):\n",
    "        ims, labels = batch\n",
    "        ims, labels = ims.to(device), labels.to(\"cpu\")\n",
    "        with torch.no_grad():\n",
    "            image_features = model.encode_image(ims)\n",
    "            image_features /= image_features.norm(dim=-1, keepdim=True)\n",
    "            image_features = image_features.to(\"cpu\")\n",
    "            probs = (image_features @ text_features.T).softmax(dim=-1)\n",
    "            \n",
    "        val_acc = get_acc(labels.view(-1,), probs)\n",
    "        eval_acc.append(val_acc)\n",
    "    \n",
    "    return np.mean(eval_acc)"
   ],
   "metadata": {
    "collapsed": false,
    "ExecuteTime": {
     "end_time": "2023-07-27T19:31:15.071378200Z",
     "start_time": "2023-07-27T19:31:15.058412800Z"
    }
   },
   "id": "34604688593e69b9"
  },
  {
   "cell_type": "code",
   "execution_count": 10,
   "outputs": [
    {
     "data": {
      "text/plain": "  0%|          | 0/5 [00:00<?, ?it/s]",
      "application/vnd.jupyter.widget-view+json": {
       "version_major": 2,
       "version_minor": 0,
       "model_id": "a54cc5a9a5ec43649ee1ba8b9aac9130"
      }
     },
     "metadata": {},
     "output_type": "display_data"
    },
    {
     "data": {
      "text/plain": "  0%|          | 0/196 [00:00<?, ?it/s]",
      "application/vnd.jupyter.widget-view+json": {
       "version_major": 2,
       "version_minor": 0,
       "model_id": "e566bb1c161d45a2855cbda0332883cf"
      }
     },
     "metadata": {},
     "output_type": "display_data"
    },
    {
     "data": {
      "text/plain": "  0%|          | 0/196 [00:00<?, ?it/s]",
      "application/vnd.jupyter.widget-view+json": {
       "version_major": 2,
       "version_minor": 0,
       "model_id": "0f54efd12a6f422fa61e2deb60c04593"
      }
     },
     "metadata": {},
     "output_type": "display_data"
    },
    {
     "data": {
      "text/plain": "  0%|          | 0/196 [00:00<?, ?it/s]",
      "application/vnd.jupyter.widget-view+json": {
       "version_major": 2,
       "version_minor": 0,
       "model_id": "a6483e69c6b1490991810ecd60768ee5"
      }
     },
     "metadata": {},
     "output_type": "display_data"
    },
    {
     "data": {
      "text/plain": "  0%|          | 0/196 [00:00<?, ?it/s]",
      "application/vnd.jupyter.widget-view+json": {
       "version_major": 2,
       "version_minor": 0,
       "model_id": "983ebb2a2c474023a8ad73d329b8358e"
      }
     },
     "metadata": {},
     "output_type": "display_data"
    },
    {
     "data": {
      "text/plain": "  0%|          | 0/196 [00:00<?, ?it/s]",
      "application/vnd.jupyter.widget-view+json": {
       "version_major": 2,
       "version_minor": 0,
       "model_id": "bca801b655b14c2681dde205c91e8576"
      }
     },
     "metadata": {},
     "output_type": "display_data"
    }
   ],
   "source": [
    "gaussian_noise_acc = []\n",
    "for sev in tqdm([1, 2, 3, 4, 5]):\n",
    "    loader = imagenet_c_dataloader(corruption_name='gaussian_noise', severity=sev, batch_size=256, transform=transform)\n",
    "    gaussian_noise_acc.append(get_test_acc(model, loader, device))"
   ],
   "metadata": {
    "collapsed": false,
    "ExecuteTime": {
     "end_time": "2023-07-27T19:31:15.053427700Z",
     "start_time": "2023-07-27T19:18:59.625006900Z"
    }
   },
   "id": "8b7908722f6d859c"
  },
  {
   "cell_type": "code",
   "execution_count": 12,
   "outputs": [
    {
     "data": {
      "text/plain": "[0.5286392, 0.47575733, 0.38308355, 0.26073024, 0.1320751]"
     },
     "execution_count": 12,
     "metadata": {},
     "output_type": "execute_result"
    }
   ],
   "source": [
    "gaussian_noise_acc"
   ],
   "metadata": {
    "collapsed": false,
    "ExecuteTime": {
     "end_time": "2023-07-27T19:31:15.114356800Z",
     "start_time": "2023-07-27T19:31:15.073374200Z"
    }
   },
   "id": "dcc2296ad2f2c4bf"
  },
  {
   "cell_type": "code",
   "execution_count": 13,
   "outputs": [
    {
     "data": {
      "text/plain": "  0%|          | 0/5 [00:00<?, ?it/s]",
      "application/vnd.jupyter.widget-view+json": {
       "version_major": 2,
       "version_minor": 0,
       "model_id": "c4f6f8aaae1f4aaa854ae96eba2c04c1"
      }
     },
     "metadata": {},
     "output_type": "display_data"
    },
    {
     "data": {
      "text/plain": "  0%|          | 0/196 [00:00<?, ?it/s]",
      "application/vnd.jupyter.widget-view+json": {
       "version_major": 2,
       "version_minor": 0,
       "model_id": "824abd19b6f34f308d52b3731ea91b92"
      }
     },
     "metadata": {},
     "output_type": "display_data"
    },
    {
     "data": {
      "text/plain": "  0%|          | 0/196 [00:00<?, ?it/s]",
      "application/vnd.jupyter.widget-view+json": {
       "version_major": 2,
       "version_minor": 0,
       "model_id": "1f7f4ac0d42a45e2bef297ff2066e4f3"
      }
     },
     "metadata": {},
     "output_type": "display_data"
    },
    {
     "data": {
      "text/plain": "  0%|          | 0/196 [00:00<?, ?it/s]",
      "application/vnd.jupyter.widget-view+json": {
       "version_major": 2,
       "version_minor": 0,
       "model_id": "960eb68ba9e64581b1f8b8457efbcb6b"
      }
     },
     "metadata": {},
     "output_type": "display_data"
    },
    {
     "data": {
      "text/plain": "  0%|          | 0/196 [00:00<?, ?it/s]",
      "application/vnd.jupyter.widget-view+json": {
       "version_major": 2,
       "version_minor": 0,
       "model_id": "457146d2b16e4f3aa27a419c35d6c38f"
      }
     },
     "metadata": {},
     "output_type": "display_data"
    },
    {
     "data": {
      "text/plain": "  0%|          | 0/196 [00:00<?, ?it/s]",
      "application/vnd.jupyter.widget-view+json": {
       "version_major": 2,
       "version_minor": 0,
       "model_id": "7adec37ce23e4f538cc5b98ba821b46b"
      }
     },
     "metadata": {},
     "output_type": "display_data"
    }
   ],
   "source": [
    "impulse_noise_acc = []\n",
    "for sev in tqdm([1, 2, 3, 4, 5]):\n",
    "    loader = imagenet_c_dataloader(corruption_name='impulse_noise', severity=sev, batch_size=256, transform=transform)\n",
    "    impulse_noise_acc.append(get_test_acc(model, loader, device))"
   ],
   "metadata": {
    "collapsed": false,
    "ExecuteTime": {
     "end_time": "2023-07-27T19:46:19.610830600Z",
     "start_time": "2023-07-27T19:34:36.794781600Z"
    }
   },
   "id": "b1f21755451bbd9f"
  },
  {
   "cell_type": "code",
   "execution_count": 14,
   "outputs": [
    {
     "data": {
      "text/plain": "[0.4705078, 0.41455278, 0.36472017, 0.25004384, 0.1365633]"
     },
     "execution_count": 14,
     "metadata": {},
     "output_type": "execute_result"
    }
   ],
   "source": [
    "impulse_noise_acc"
   ],
   "metadata": {
    "collapsed": false,
    "ExecuteTime": {
     "end_time": "2023-07-27T19:46:19.635762Z",
     "start_time": "2023-07-27T19:46:19.614818300Z"
    }
   },
   "id": "302e91c1bb6bdc77"
  },
  {
   "cell_type": "code",
   "execution_count": 15,
   "outputs": [
    {
     "data": {
      "text/plain": "  0%|          | 0/5 [00:00<?, ?it/s]",
      "application/vnd.jupyter.widget-view+json": {
       "version_major": 2,
       "version_minor": 0,
       "model_id": "12fa96f838a8400d81d665cf2cc15a04"
      }
     },
     "metadata": {},
     "output_type": "display_data"
    },
    {
     "data": {
      "text/plain": "  0%|          | 0/196 [00:00<?, ?it/s]",
      "application/vnd.jupyter.widget-view+json": {
       "version_major": 2,
       "version_minor": 0,
       "model_id": "cc1cc3a5c31c41928e26ace8d4e9654b"
      }
     },
     "metadata": {},
     "output_type": "display_data"
    },
    {
     "data": {
      "text/plain": "  0%|          | 0/196 [00:00<?, ?it/s]",
      "application/vnd.jupyter.widget-view+json": {
       "version_major": 2,
       "version_minor": 0,
       "model_id": "d62ae3be6979410b830cac3c5c7a98ea"
      }
     },
     "metadata": {},
     "output_type": "display_data"
    },
    {
     "data": {
      "text/plain": "  0%|          | 0/196 [00:00<?, ?it/s]",
      "application/vnd.jupyter.widget-view+json": {
       "version_major": 2,
       "version_minor": 0,
       "model_id": "971dc4e7fec24cf19f489799332041a3"
      }
     },
     "metadata": {},
     "output_type": "display_data"
    },
    {
     "data": {
      "text/plain": "  0%|          | 0/196 [00:00<?, ?it/s]",
      "application/vnd.jupyter.widget-view+json": {
       "version_major": 2,
       "version_minor": 0,
       "model_id": "3ba8f14efa264924b42e3b99fc9c8d6d"
      }
     },
     "metadata": {},
     "output_type": "display_data"
    },
    {
     "data": {
      "text/plain": "  0%|          | 0/196 [00:00<?, ?it/s]",
      "application/vnd.jupyter.widget-view+json": {
       "version_major": 2,
       "version_minor": 0,
       "model_id": "7a36b1afb108467594833a741b4f10d2"
      }
     },
     "metadata": {},
     "output_type": "display_data"
    }
   ],
   "source": [
    "shot_noise_acc = []\n",
    "for sev in tqdm([1, 2, 3, 4, 5]):\n",
    "    loader = imagenet_c_dataloader(corruption_name='shot_noise', severity=sev, batch_size=256, transform=transform)\n",
    "    shot_noise_acc.append(get_test_acc(model, loader, device))"
   ],
   "metadata": {
    "collapsed": false,
    "ExecuteTime": {
     "end_time": "2023-07-27T19:57:59.687705900Z",
     "start_time": "2023-07-27T19:46:19.628781900Z"
    }
   },
   "id": "1956ae7cc74bc73b"
  },
  {
   "cell_type": "code",
   "execution_count": 16,
   "outputs": [
    {
     "data": {
      "text/plain": "[0.5197026, 0.4564533, 0.3620695, 0.2157685, 0.1340322]"
     },
     "execution_count": 16,
     "metadata": {},
     "output_type": "execute_result"
    }
   ],
   "source": [
    "shot_noise_acc"
   ],
   "metadata": {
    "collapsed": false,
    "ExecuteTime": {
     "end_time": "2023-07-27T19:57:59.705658Z",
     "start_time": "2023-07-27T19:57:59.688702200Z"
    }
   },
   "id": "789f99e8724ed1a0"
  },
  {
   "cell_type": "code",
   "execution_count": 17,
   "outputs": [
    {
     "data": {
      "text/plain": "  0%|          | 0/5 [00:00<?, ?it/s]",
      "application/vnd.jupyter.widget-view+json": {
       "version_major": 2,
       "version_minor": 0,
       "model_id": "1216d234c5ae40d880cc7d969079d76b"
      }
     },
     "metadata": {},
     "output_type": "display_data"
    },
    {
     "data": {
      "text/plain": "  0%|          | 0/196 [00:00<?, ?it/s]",
      "application/vnd.jupyter.widget-view+json": {
       "version_major": 2,
       "version_minor": 0,
       "model_id": "e22836e9827148c18eb1e44ed6a72cbc"
      }
     },
     "metadata": {},
     "output_type": "display_data"
    },
    {
     "data": {
      "text/plain": "  0%|          | 0/196 [00:00<?, ?it/s]",
      "application/vnd.jupyter.widget-view+json": {
       "version_major": 2,
       "version_minor": 0,
       "model_id": "7177ce734e104c33bcd6c2dbad8d694a"
      }
     },
     "metadata": {},
     "output_type": "display_data"
    },
    {
     "data": {
      "text/plain": "  0%|          | 0/196 [00:00<?, ?it/s]",
      "application/vnd.jupyter.widget-view+json": {
       "version_major": 2,
       "version_minor": 0,
       "model_id": "e35cb4820b644017928dd62e9597f342"
      }
     },
     "metadata": {},
     "output_type": "display_data"
    },
    {
     "data": {
      "text/plain": "  0%|          | 0/196 [00:00<?, ?it/s]",
      "application/vnd.jupyter.widget-view+json": {
       "version_major": 2,
       "version_minor": 0,
       "model_id": "cc6e0248e0ea45bb9dd84dfc16aee365"
      }
     },
     "metadata": {},
     "output_type": "display_data"
    },
    {
     "data": {
      "text/plain": "  0%|          | 0/196 [00:00<?, ?it/s]",
      "application/vnd.jupyter.widget-view+json": {
       "version_major": 2,
       "version_minor": 0,
       "model_id": "084ee512a1914459811183b375f4ed46"
      }
     },
     "metadata": {},
     "output_type": "display_data"
    }
   ],
   "source": [
    "speckle_noise_acc = []\n",
    "for sev in tqdm([1, 2, 3, 4, 5]):\n",
    "    loader = imagenet_c_dataloader(corruption_name='speckle_noise', severity=sev, batch_size=256, transform=transform)\n",
    "    speckle_noise_acc.append(get_test_acc(model, loader, device))"
   ],
   "metadata": {
    "collapsed": false,
    "ExecuteTime": {
     "end_time": "2023-07-27T20:09:39.941206600Z",
     "start_time": "2023-07-27T19:57:59.705658Z"
    }
   },
   "id": "c748071206ed8590"
  },
  {
   "cell_type": "code",
   "execution_count": 18,
   "outputs": [
    {
     "data": {
      "text/plain": "[0.52785397, 0.4948302, 0.37495616, 0.29706234, 0.21020408]"
     },
     "execution_count": 18,
     "metadata": {},
     "output_type": "execute_result"
    }
   ],
   "source": [
    "speckle_noise_acc"
   ],
   "metadata": {
    "collapsed": false,
    "ExecuteTime": {
     "end_time": "2023-07-27T20:09:39.957162700Z",
     "start_time": "2023-07-27T20:09:39.945195300Z"
    }
   },
   "id": "1fb5a68b93968b88"
  },
  {
   "cell_type": "code",
   "execution_count": 19,
   "outputs": [
    {
     "data": {
      "text/plain": "  0%|          | 0/196 [00:00<?, ?it/s]",
      "application/vnd.jupyter.widget-view+json": {
       "version_major": 2,
       "version_minor": 0,
       "model_id": "dd0779d4c1854b329cf59f03cddcdd7e"
      }
     },
     "metadata": {},
     "output_type": "display_data"
    }
   ],
   "source": [
    "loader = imagenet_dataloader(batch_size=256, transform=transform)\n",
    "clean_acc = get_test_acc(model, loader, device)"
   ],
   "metadata": {
    "collapsed": false,
    "ExecuteTime": {
     "end_time": "2023-07-27T20:15:10.874370100Z",
     "start_time": "2023-07-27T20:09:39.959158Z"
    }
   },
   "id": "5b469f3a6a9c106c"
  },
  {
   "cell_type": "code",
   "execution_count": 20,
   "outputs": [
    {
     "data": {
      "text/plain": "0.59108335"
     },
     "execution_count": 20,
     "metadata": {},
     "output_type": "execute_result"
    }
   ],
   "source": [
    "clean_acc"
   ],
   "metadata": {
    "collapsed": false,
    "ExecuteTime": {
     "end_time": "2023-07-27T20:15:10.895312600Z",
     "start_time": "2023-07-27T20:15:10.875366700Z"
    }
   },
   "id": "20800de2f90911cd"
  }
 ],
 "metadata": {
  "kernelspec": {
   "display_name": "Python 3",
   "language": "python",
   "name": "python3"
  },
  "language_info": {
   "codemirror_mode": {
    "name": "ipython",
    "version": 2
   },
   "file_extension": ".py",
   "mimetype": "text/x-python",
   "name": "python",
   "nbconvert_exporter": "python",
   "pygments_lexer": "ipython2",
   "version": "2.7.6"
  }
 },
 "nbformat": 4,
 "nbformat_minor": 5
}
