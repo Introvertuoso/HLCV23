{
 "cells": [
  {
   "cell_type": "code",
   "execution_count": null,
   "metadata": {},
   "outputs": [],
   "source": []
  },
  {
   "cell_type": "markdown",
   "metadata": {},
   "source": [
    "- Focus on cifar 10, experiment with corrupt vs not corrupt \n",
    "- out of the box prediction:\n",
    "    - if self-sueprvised -> zero-shot classification \n",
    "    - if supervised -> ?? \n",
    "\n",
    "- Fine-tuning [beware of the preprocessing]. \n",
    "    - traing-set for cifar-10 original\n",
    "    - test on the corrupt vs non-corrupt test sets\n",
    "\n",
    "- adding more models, so far we have:\n",
    "    - Raw Calssifer (flattened image features)\n",
    "    - CLIP [Omer]\n",
    "    - DINO V1 or any SIMCLR.[Omer]\n",
    "    - ResNet50\n",
    "    - ViT [Muhammad]\n",
    "    - BLIP [Jawad]\n",
    "    - IMAGEBIND\n",
    "    - Merlot\n",
    "\n",
    "- Noise Types:\n",
    "    - Gaussian\n",
    "    - Impulse\n",
    "    - Shot Noise\n",
    "\n",
    "- Metrics:\n",
    "    - drop of accuracy per corruption type. "
   ]
  },
  {
   "cell_type": "markdown",
   "metadata": {},
   "source": []
  }
 ],
 "metadata": {
  "kernelspec": {
   "display_name": "Python 3.9.13 ('base')",
   "language": "python",
   "name": "python3"
  },
  "language_info": {
   "name": "python",
   "version": "3.9.13"
  },
  "orig_nbformat": 4,
  "vscode": {
   "interpreter": {
    "hash": "fd7dbb48fe48206b3fa28e7644e6bfc5e8195321495cae30b3c634d6cd074741"
   }
  }
 },
 "nbformat": 4,
 "nbformat_minor": 2
}
